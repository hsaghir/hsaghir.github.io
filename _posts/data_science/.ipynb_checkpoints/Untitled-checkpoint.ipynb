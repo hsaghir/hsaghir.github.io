{
 "cells": [
  {
   "cell_type": "code",
   "execution_count": 1,
   "metadata": {},
   "outputs": [],
   "source": [
    "import pandas as pd \n",
    "pd.set_option('display.max_columns', 50)\n",
    "\n",
    "def find_most_purchased_color(transactions_file_name, product_file_name):\n",
    "    # Write your code here\n",
    "\n",
    "    with open(transactions_file_name, \"rt\") as raw_data:\n",
    "        transactions_data = pd.read_csv(raw_data) # names = ['product_id', 'purchased_quantity', 'unit_product_price', 'transaction_id', 'customer_id',  'transaction_date']\n",
    "    with open(product_file_name, \"rt\") as raw_data:\n",
    "        product_data = pd.read_csv(raw_data) # names = ['product_id','color']\n",
    "\n",
    "    # sort based on quantity\n",
    "    transactions_data = transactions_data.sort_values('purchased_quantity')\n",
    "    # print(transactions_data.head())\n",
    "    # print(product_data.head())\n",
    "\n",
    "    most_purchased = transactions_data.iloc[-1]\n",
    "    print(most_purchased)\n",
    "    most_purchased_color = product_data[product_data['product_id'] == most_purchased['product_id']]['color'].tolist()\n",
    "    return str(most_purchased_color[0])"
   ]
  },
  {
   "cell_type": "code",
   "execution_count": null,
   "metadata": {},
   "outputs": [],
   "source": [
    "import numpy as np\n",
    "import pandas as pd \n",
    "pd.set_option('display.max_columns', 50)\n",
    "\n",
    "def create_training_data(transactions_file_name, product_file_name):\n",
    "    # read files\n",
    "    with open(transactions_file_name, \"rt\") as raw_data:\n",
    "        transactions_data = pd.read_csv(raw_data, date_parser = pd.to_datetime, parse_dates =['transaction_date'] )\n",
    "    with open(product_file_name, \"rt\") as raw_data:\n",
    "        product_data = pd.read_csv(raw_data)\n",
    "    \n",
    "    # filter by date\n",
    "    transactions_data_before = transactions_data[transactions_data['transaction_date'] < '2012-10-01']\n",
    "    transactions_data_after = transactions_data[transactions_data['transaction_date'] >= '2012-10-01']\n",
    "\n",
    "\n",
    "    def aggregate(df):\n",
    "        # group by id and aggregate\n",
    "        df['num_transactions'] = pd.Series(np.ones(df.shape[0]), index=df.index)\n",
    "        # purchased_quantity may be important as it may indicate hooked customers\n",
    "        df = df.groupby(['customer_id'], as_index=False)['purchased_quantity', 'unit_product_price', 'num_transactions'].sum()\n",
    "        return df\n",
    "    \n",
    "    transactions_data_before_agg = aggregate(transactions_data_before)\n",
    "    transactions_data_after_agg = aggregate(transactions_data_after)\n",
    "\n",
    "    \n",
    "    transactions_data_before_agg['target'] = pd.Series(np.zeros(transactions_data_before_agg.shape[0]), index=transactions_data_before_agg.index)\n",
    "    for idx, row in transactions_data_before_agg.iterrows():\n",
    "        if row['customer_id'] in transactions_data_after_agg['customer_id']:\n",
    "            transactions_data_before_agg.loc[idx,'target'] = 1\n",
    "\n",
    "    # print(transactions_data_before_agg.shape)\n",
    "    # print(transactions_data_before_agg.head())\n",
    "    print(transactions_data_before_agg[transactions_data_before_agg['target']==0].shape) # negative samples size\n",
    "    print(transactions_data_before_agg[transactions_data_before_agg['target']==1].shape) # positive samples size\n",
    "\n",
    "    filename = 'features_data.csv'\n",
    "    transactions_data_before_agg.to_csv(filename, encoding='utf-8', index=False)\n",
    "    return filename"
   ]
  }
 ],
 "metadata": {
  "kernelspec": {
   "display_name": "Python 3",
   "language": "python",
   "name": "python3"
  },
  "language_info": {
   "codemirror_mode": {
    "name": "ipython",
    "version": 3
   },
   "file_extension": ".py",
   "mimetype": "text/x-python",
   "name": "python",
   "nbconvert_exporter": "python",
   "pygments_lexer": "ipython3",
   "version": "3.7.1"
  }
 },
 "nbformat": 4,
 "nbformat_minor": 2
}
