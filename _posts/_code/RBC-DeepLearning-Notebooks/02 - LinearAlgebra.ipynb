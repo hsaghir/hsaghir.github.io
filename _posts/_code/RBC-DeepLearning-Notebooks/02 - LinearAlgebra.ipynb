{
 "cells": [
  {
   "cell_type": "markdown",
   "metadata": {
    "deletable": true,
    "editable": true
   },
   "source": [
    "Attribution: \n",
    "\n",
    "   * Most material based on [Sam Roweis](https://www.cs.nyu.edu/home/people/in_memoriam/samroweis.html)' Linear Algebra Review\n"
   ]
  },
  {
   "cell_type": "code",
   "execution_count": null,
   "metadata": {
    "collapsed": false,
    "deletable": true,
    "editable": true
   },
   "outputs": [],
   "source": [
    "%matplotlib notebook\n",
    "\n",
    "# Note that this is the usual way that I import Numpy and Matplotlib\n",
    "import numpy as np\n",
    "import matplotlib.pyplot as plt"
   ]
  },
  {
   "cell_type": "markdown",
   "metadata": {
    "deletable": true,
    "editable": true
   },
   "source": [
    "# Vectors and Matrices\n",
    " \n",
    "Linear algebra is the study of vectors and matrices and how they can be manipulated to perform various calculations. \n",
    "\n",
    "Consider functions which take several input arguments and produce several output arguments. If we stack up the input arguments into a vector $\\mathbf{x}$ and the outputs into a vector $\\mathbf{y}$, then a function $\\mathbf{y} = f(\\mathbf{x})$ is said to be *linear* if:\n",
    "\n",
    "$$f\\left(\\alpha \\mathbf{x} + \\beta \\mathbf{u} \\right) = \\alpha f\\left( \\mathbf{x} \\right) + \\beta f \\left( \\mathbf{u} \\right)$$\n",
    "\n",
    "for all scalars, $\\alpha, \\beta$ and all vectors $\\mathbf{x}, \\mathbf{u}$. In other words, *scaling the input scales the output* and *summing inputs sums their outputs*.\n",
    "\n",
    "**Now for an amazing fact**:\n",
    "\n",
    "All functions which are linear can be written in the form of a matrix $F$ which left multiplies the input argument $\\mathbf{x}$:\n",
    "\n",
    "$$\\mathbf{y} = F \\mathbf{x}$$\n",
    "\n",
    "Furthermore, all matrix relations like the one above represent linear functions from their inputs to their outputs.\n",
    "\n",
    "**Another interesting fact** is that the composition of two linear functions is still linear:\n",
    "\n",
    "$$g\\left(f\\left(\\mathbf{x}\\right)\\right) = GF\\mathbf{x} = H \\mathbf{x} = h(\\mathbf{x})$$\n",
    "\n",
    "*The entire study of multiple-input multiple-output linear functions can be reduced to the study of vectors and matrices.*\n",
    "\n",
    "# Multiplication, Addition, Transposition\n",
    "\n",
    "Adding up two vectors or two matrices is easy: just add their corresponding elements (of course the two must be the same shape!):"
   ]
  },
  {
   "cell_type": "code",
   "execution_count": null,
   "metadata": {
    "collapsed": false,
    "deletable": true,
    "editable": true
   },
   "outputs": [],
   "source": [
    "a = np.array([1, 2, 3])\n",
    "b = np.ones(3,)\n",
    "print a\n",
    "print b\n",
    "print a + b"
   ]
  },
  {
   "cell_type": "code",
   "execution_count": null,
   "metadata": {
    "collapsed": false,
    "deletable": true,
    "editable": true
   },
   "outputs": [],
   "source": [
    "A = np.array([[1, 2, 3], [4, 5, 6]])\n",
    "B = np.arange(6).reshape(A.shape)\n",
    "print A\n",
    "print B\n",
    "print A + B"
   ]
  },
  {
   "cell_type": "markdown",
   "metadata": {
    "deletable": true,
    "editable": true
   },
   "source": [
    "Multiplying a vector or matrix by a scalar just multiplies each element by the scalar:"
   ]
  },
  {
   "cell_type": "code",
   "execution_count": null,
   "metadata": {
    "collapsed": false,
    "deletable": true,
    "editable": true
   },
   "outputs": [],
   "source": [
    "print 2 * a\n",
    "print 0.5 * A"
   ]
  },
  {
   "cell_type": "markdown",
   "metadata": {
    "deletable": true,
    "editable": true
   },
   "source": [
    "## Matrix-vector and matrix-matrix multiplication\n",
    "\n",
    "A good way to think of an $n \\times m$ matrix $F$ is as a machine that eats $m$ sized vectors and spits out $n$ sized vectors. This conversion process is known as (left) multiplying by $F$ and has many similarities to scalar multiplication, but also a few differences. Most importantly, the machine only accepts inputs of the right size."
   ]
  },
  {
   "cell_type": "code",
   "execution_count": null,
   "metadata": {
    "collapsed": false,
    "deletable": true,
    "editable": true
   },
   "outputs": [],
   "source": [
    "# In Numpy, both matrix-vector and matrix-matrix multiplication is performed by np.dot\n",
    "print A.shape\n",
    "print a.shape\n",
    "print np.dot(A, a)\n",
    "print A.dot(a)"
   ]
  },
  {
   "cell_type": "code",
   "execution_count": null,
   "metadata": {
    "collapsed": false,
    "deletable": true,
    "editable": true
   },
   "outputs": [],
   "source": [
    "print np.dot(A, a[:2])  # not compatible sizes"
   ]
  },
  {
   "cell_type": "markdown",
   "metadata": {
    "deletable": true,
    "editable": true
   },
   "source": [
    "Like scalar multiplication, matrix multiplication is *distributive* and *associative*:\n",
    "\n",
    "$$\n",
    "\\begin{aligned}\n",
    "F(\\mathbf{a} + \\mathbf{b}) & = F\\mathbf{a} + F\\mathbf{b}\\\\\n",
    " G(F\\mathbf{a}) & = (GF)\\mathbf{a}\n",
    "\\end{aligned}\n",
    "$$\n",
    "\n",
    "One way to think of this is that the matrix product $GF$ is the equivalent linear operator you get if you compose the action of $F$ followed by the action of $G$.\n",
    "\n",
    "Matrix-matrix multiplication can be thought of as a sequence of matrix-vector multiplications, one for each column, whose results get stacked beside each other in columns to form a new matrix. In general, we can think of column vectors of length $k$ as just $k \\times 1$ and row vectors as $1 \\times k$ matrices. This eliminates any distinction between matrix-matrix and matrix-vector multiplication."
   ]
  },
  {
   "cell_type": "code",
   "execution_count": null,
   "metadata": {
    "collapsed": false,
    "deletable": true,
    "editable": true
   },
   "outputs": [],
   "source": [
    "print np.dot(A, A.T)"
   ]
  },
  {
   "cell_type": "markdown",
   "metadata": {
    "deletable": true,
    "editable": true
   },
   "source": [
    "Note that in the above, we flipped or \"transposed\" the matrix. This interchanges the rows and columns, and in the example above, made the shapes compatible for matrix-matrix multiplication."
   ]
  },
  {
   "cell_type": "code",
   "execution_count": null,
   "metadata": {
    "collapsed": false,
    "deletable": true,
    "editable": true
   },
   "outputs": [],
   "source": [
    "print A.shape\n",
    "print A.T.shape"
   ]
  },
  {
   "cell_type": "markdown",
   "metadata": {
    "deletable": true,
    "editable": true
   },
   "source": [
    "Unlike scalar multiplication, matrix multiplication is not *commutative*:\n",
    "\n",
    "$$ F \\mathbf{a} \\neq \\mathbf{a} F $$\n",
    "\n",
    "Multiplying a vector by itself (transposed) gives a scalar $\\mathbf{x}^T \\mathbf{x}$ which is known as the (squared) *norm* or squared length of the vector and is written $||\\mathbf{x}||^2$. This measure adds up the sum of the squares of the elements of the vector. For much more about norms, see [Goodfellow et al. Chapter 2](http://www.deeplearningbook.org/contents/linear_algebra.html)."
   ]
  },
  {
   "cell_type": "code",
   "execution_count": null,
   "metadata": {
    "collapsed": false,
    "deletable": true,
    "editable": true
   },
   "outputs": [],
   "source": [
    "print np.dot(a.T, a)\n",
    "print np.dot(a, a)  # note we didn't actually need the transpose - numpy automatically does dot product with two vector inputs\n",
    "print np.linalg.norm(a)**2  # this is a more powerful function for computing general norms"
   ]
  },
  {
   "cell_type": "markdown",
   "metadata": {
    "deletable": true,
    "editable": true
   },
   "source": [
    "For more information about efficiently computing norms (and also how to call [BLAS](https://en.wikipedia.org/wiki/Basic_Linear_Algebra_Subprograms) directly from Python) see [this blog post](http://fseoane.net/blog/2011/computing-the-vector-norm/).\n",
    "\n",
    "The *Frobenius norm* of a matrix $||A||^2$ similarly adds up the squares of all the matrix elements."
   ]
  },
  {
   "cell_type": "code",
   "execution_count": null,
   "metadata": {
    "collapsed": false,
    "deletable": true,
    "editable": true
   },
   "outputs": [],
   "source": [
    "print np.sum(A * A)  # note * is element-wise multiplication, not matrix-matrix multiplication\n",
    "print np.linalg.norm(A)**2  # by default, linalg.norm() computes Frobenius norm for matrix input"
   ]
  },
  {
   "cell_type": "markdown",
   "metadata": {
    "deletable": true,
    "editable": true
   },
   "source": [
    "# Inverses and Determinants\n",
    "\n",
    "First, let's consider the concept of reversing or undoing or *inverting* the function represented by a matrix $A$. For a function to be invertible, there needs to be a one-to-one relationship between inputs and outputs so that given the output you can always say exactly what the input was. In other words, we need a function which, when composed with $A$ gives back the original vector. Such a function -- if it exists -- is called the *inverse* of $A$ and the matrix is denoted $A^{-1}$.\n",
    "\n",
    "In matrix terms, we seek a matrix that left multiplies $A$ to give the identity matrix:\n",
    "\n",
    "$$A^{-1}A = I$$\n",
    "\n",
    "The identity matrix, $I_{ij} = \\delta_{ij}$ corresponds to the identity (do-nothing) function.\n",
    "\n",
    "Only a few, special linear functions are invertible. \n",
    "\n",
    "* They must have at least as many outputs as inputs\n",
    "* They must not map any two inputs to the same output\n",
    "\n",
    "Technically this means that they must have *full rank*, a concept which we will get to later.\n",
    "\n",
    "Non-square matrices ($m$-by-$n$ matrices for which $m \\neq n$) technically do not have an inverse. However, in some cases such a matrix may have a *left inverse* or *right inverse* (but not both). If A is $m$-by-$n$ and the rank of $A$ is equal to $n$, then $A$ has a left inverse: an $n$-by-$m$ matrix $B$ such that $BA = I$. If $A$ has rank $m$, then it has a right inverse: an $n$-by-$m$ matrix $B$ such that $AB = I$. [Goodfellow et al. Chapter 2](http://www.deeplearningbook.org/contents/linear_algebra.html) provides a lot more detail on inverses."
   ]
  },
  {
   "cell_type": "code",
   "execution_count": null,
   "metadata": {
    "collapsed": false,
    "deletable": true,
    "editable": true
   },
   "outputs": [],
   "source": [
    "C = A.dot(A.T)  # A trick to make an invertible matrix\n",
    "C_inv = np.linalg.inv(C)\n",
    "print C\n",
    "print C_inv \n",
    "print C_inv.dot(C)"
   ]
  },
  {
   "cell_type": "markdown",
   "metadata": {
    "deletable": true,
    "editable": true
   },
   "source": [
    "The matrix *determinant* is a scalar quantity, normally denoted $|A|$ or $\\text{det}(A)$ whose absolute value measures how much the matrix \"stretches\" or \"squishes\" volume as it transforms its inputs to outputs and whose sign indicates whether the transformation is [orientation preserving](http://en.wikipedia.org/wiki/Orientation_%28vector_space%29). Matrices with large determinants do (on average) a lot of stretching and those with small determinants do a lot of squishing.\n",
    "\n",
    "Matrices with zero determinant have rank less than the number of rows and and actually collapse some of their input space into a line or hyperplane (pancake) in the output space, and this can be thought of doing \"infinite squishing\". Conventionally, the determinant is only defined for square matrices, but there is a natural extension to rectangular ones using the *singular value decomposition*."
   ]
  },
  {
   "cell_type": "code",
   "execution_count": null,
   "metadata": {
    "collapsed": false,
    "deletable": true,
    "editable": true
   },
   "outputs": [],
   "source": [
    "A = np.array([[2, 3, 0], [3, 2, 7], [2, 1, 6]])\n",
    "print A\n",
    "print np.linalg.det(A)\n",
    "print np.linalg.det(np.linalg.inv(A))  # note 1/det(A)\n",
    "B = np.array([[2, 3, 2], [1, 2, 4], [3, 5, 6]])\n",
    "print np.linalg.matrix_rank(B)\n",
    "print B\n",
    "print np.linalg.det(B)  # not quite zero because of numerical instability"
   ]
  },
  {
   "cell_type": "markdown",
   "metadata": {
    "deletable": true,
    "editable": true
   },
   "source": [
    "# Fundamental Matrix Equations\n",
    "\n",
    "The two most important matrix equations are the system of linear equations:\n",
    "\n",
    "$$A \\mathbf{x} = \\mathbf{b}$$ \n",
    "\n",
    "and the eigenvector equation:\n",
    "\n",
    "$$A \\mathbf{x} = \\lambda \\mathbf{x}$$\n",
    "\n",
    "which between them cover a large number of optimization and constraint satisfaction problems. As we've written them above, $\\mathbf{x}$ is a vector but these equations also have natural extensions to the case where there are many vectors simultaneously satisfying the equation $AX = B$ or $AX = \\lambda X$.\n",
    "\n",
    "# Systems of Linear Equations\n",
    "\n",
    "A central problem in linear algebra is the solution of a system of linear equations like this:\n",
    "\n",
    "$$\n",
    "\\begin{align}\n",
    "3x + 4y + 2z &= 12\\\\\n",
    "x + y + z &=5\n",
    "\\end{align}\n",
    "$$\n",
    "\n",
    "Typically, we express this system as a single *matrix equation* in the form: $A\\mathbf{x} = \\mathbf{b}$, where $A$ is an $m$-by-$n$ matrix, $\\mathbf{x}$ is an $n$-dimensional column vector, and $\\mathbf{b}$ is an $m$-dimensional column vector. The number of unknowns is $n$ and the number of equations or constraints is $m$. Here is another simple example:\n",
    "\n",
    "$$\n",
    "\\left[ \n",
    "\\begin{array}{rr}\n",
    "2 & -1\\\\\n",
    "1 & 1\n",
    "\\end{array}\n",
    "\\right] \n",
    "\\left[\n",
    "\\begin{array}{c}\n",
    "x_1 \\\\\n",
    "x_2\n",
    "\\end{array}\n",
    "\\right]\n",
    "=\n",
    "\\left[\n",
    "\\begin{array}{c}\n",
    "1\\\\\n",
    "5\n",
    "\\end{array}\n",
    "\\right]\n",
    "$$"
   ]
  },
  {
   "cell_type": "markdown",
   "metadata": {
    "deletable": true,
    "editable": true
   },
   "source": [
    "How do we go about \"solving\" this system of equations? \n",
    "\n",
    "* Finding $\\mathbf{b}$ given $A$ and $\\mathbf{x}$ is easy - just multiply\n",
    "* For a single $\\mathbf{x}$ and $\\mathbf{b}$ there are usually a great many matrices $A$ which satisfy the equation\n",
    "* The only interesting problem left is to find $\\mathbf{x}$ given $A$ and $\\mathbf{b}$!\n",
    "\n",
    "This kind of equation is really a problem statement. It says \"we applied the function $A$ and generated the output $\\mathbf{b}$; what was the input $\\mathbf{x}$?\"\n",
    "\n",
    "The matrix $A$ is dictated to us by our problem, and represents our model of how the system we are studying converts inputs to outputs. The vector $\\mathbf{b}$ is the output that we observe (or desire) - we know it. The vector $\\mathbf{x}$ is the set of inputs that we are trying to find.\n",
    "\n",
    "There are two ways of thinking about this system of equations. One is *rowwise* as a set of $m$ equations, or constraints that correspond geometrically to $m$ intersecting constraint surfaces:\n",
    "\n",
    "$$\n",
    "\\left[\n",
    "\\begin{array}{r}\n",
    "2x_1 - x_2 &= 1\\\\\n",
    "x_1 + x_2 &= 5\n",
    "\\end{array}\n",
    "\\right]\n",
    "$$\n",
    "\n",
    "The goal is to find the point(s), for example $(x_1, x_2)$ above, which are at the intersection of all the constraint surfaces. In the example above, these surfaces are two lines in a plane. If the lines intersect then there is a solution. If they are parallel, there is not. If they are coincident then there are infinite solutions. In higher dimensions there are more geometric solutions, but in general there can be no solutions, one solution, or infinite solutions.\n",
    "\n",
    "The other way of thinking about this system is *columnwise* in which we think of the entire system as a single vector relation:\n",
    "\n",
    "$$\n",
    "x_1\n",
    "\\left[\n",
    "\\begin{array}{r}\n",
    "2\\\\\n",
    "1\n",
    "\\end{array}\n",
    "\\right]\n",
    "+\n",
    "x_2\n",
    "\\left[\n",
    "\\begin{array}{r}\n",
    "-1\\\\\n",
    "1\n",
    "\\end{array}\n",
    "\\right]\n",
    "=\n",
    "\\left[\n",
    "\\begin{array}{r}\n",
    "1\\\\\n",
    "5\n",
    "\\end{array}\n",
    "\\right]\n",
    "$$\n",
    "\n",
    "The goal here is to discover which linear combination(s) $(x_1, x_2)$, if any, of the $n$ column vectors on the left will give the one on the right.\n",
    "\n",
    "Either way, the matrix equation $A\\mathbf{x} = \\mathbf{b}$ is an almost ubiquitous problem whose solution comes up again and again in theoretical derivations and in practical data analysis problems. One of the most important applications is the minimization of quadratic energy functions: if $A$ is symmetric positive definite then the quadratic form $\\mathbf{x}^TA\\mathbf{x} - 2 \\mathbf{x}^T\\mathbf{b} + c$ is *minimized* at the point where $A\\mathbf{x}=\\mathbf{b}$. Such quadratic forms arise often in the study of linear models with Gaussian noise since the log likelihood of data under such models is always a matrix quadratic.\n",
    "\n",
    "## Least squares: solving for $\\mathbf{x}$\n",
    "\n",
    "Let's first consider the case of a single $\\mathbf{x}$. As noted above, geometrically we can think of the rows of the system as encoding constraint surfaces in which the solution vector $\\mathbf{x}$ must lie and what we are looking for is the point(s) at which these surfaces intersect. Of course, there may be no solution satisfying the equation; then we typically need some way to pick the \"best\" approximate solution. The constraints may also intersect along an entire line or surface in which case there are an infinity of solutions; once again we would like to think about which one might be best.\n",
    "\n",
    "Let's consider finding exact solutions first. The most naive thing we could do is just find the inverse of $A$ and solve the equations as follows:\n",
    "\n",
    "$$\n",
    "\\begin{align}\n",
    "A^{-1}A\\mathbf{x} & = A^{-1} \\mathbf{b}\\\\\n",
    "I\\mathbf{x} &= A^{-1}\\mathbf{b}\\\\\n",
    "\\mathbf{x} &= A^{-1}\\mathbf{b}\n",
    "\\end{align}\n",
    "$$\n",
    "\n",
    "which is known as *Cramer's rule*.\n",
    "\n",
    "There are several problems with this approach. Most importantly, many interesting functions are not invertible. Beyond that, matrix inversion is a difficult and potentially numerically unstable operation. **Don't invert a matrix unless you really have to!**\n",
    "\n",
    "In fact, there is a much better way to define what we want as a solution. We will say that we want a solution $\\mathbf{x}^*$ which minimizes the error:\n",
    "\n",
    "$$E = ||A\\mathbf{x}^* - \\mathbf{b}||^2 = \\mathbf{x}^TA^TA\\mathbf{x} - 2\\mathbf{x}^TA^T\\mathbf{b} + \\mathbf{b}^T\\mathbf{b}$$\n",
    "\n",
    "This problem is known as *linear least squares*, for obvious reasons. If there is an exact solution (one giving zero error) it will certainly minimize the above cost, but if there is no solution, we can still find the best possible approximation. If we take the matrix derivative of this expression, we can find the best solution:\n",
    "\n",
    "$$\\mathbf{x}^* = (A^TA)^{-1}A^T\\mathbf{b}$$\n",
    "\n",
    "which takes advantage of the fact that even if $A$ is not invertible, $A^TA$ may be.\n",
    "\n",
    "But what if the problem is degenerate? In other words, what if there is more than one exact solution or more than one inexact solution which all achieve the same minimum error. How can this occur? \n",
    "\n",
    "Imagine an equation like this:\n",
    "\n",
    "$$\\left[\n",
    "\\begin{array}{rr}\n",
    "1 &  -1\n",
    "\\end{array}\n",
    "\\right] \\mathbf{x} = 4$$\n",
    "\n",
    "in which $A = \\left[ \\begin{array}{rr}\n",
    "1 &  -1 \n",
    "\\end{array} \\right]$. This equation constrains the difference between the two elements of $\\mathbf{x}$ to be 4 but the sum of the two elements can be as large or small as we want. \n",
    "\n",
    "We can take things one step further to get around this problem. The answer is to ask for the *minimum norm* vector $\\mathbf{x}$ that still minimizes the above error. This breaks the degeneracies in both the exact and inexact cases. In terms of the cost function, this corresponds to adding an infinitesimal penalty on $\\mathbf{x}^T\\mathbf{x}$:\n",
    "\n",
    "$$\n",
    "E = \\text{lim}_{\\epsilon \\rightarrow 0} \\left[ \\mathbf{x}^TA^TA\\mathbf{x} - 2\\mathbf{x}^TA^T\\mathbf{b} + \\mathbf{b}^T\\mathbf{b} + \\epsilon \\mathbf{x}^T\\mathbf{x} \\right]\n",
    "$$\n",
    "\n",
    "and the optimal solution becomes\n",
    "\n",
    "$$\n",
    "\\mathbf{x}^* = \\lim_{\\epsilon \\rightarrow 0}  \\left[ \\left(A^TA + \\epsilon I\\right)^{-1}A^T\\mathbf{b}\\right]\n",
    "$$\n",
    "\n",
    "Now, of course actually computing these solutions efficiently and in a numerically stable way is the topic of much study in numerical methods. However, in Python you don't have to worry about any of this, you can just type ``np.linalg.solve(A, b)`` (if $A$ is square) or ``np.linalg.lstsq(A, b)`` (if $A$ is not square) and let someone else worry about it."
   ]
  },
  {
   "cell_type": "code",
   "execution_count": null,
   "metadata": {
    "collapsed": false,
    "deletable": true,
    "editable": true
   },
   "outputs": [],
   "source": [
    "A = np.array([[1,2],[3,4]])\n",
    "print A\n",
    "b = np.array([[5],[6]])\n",
    "print b\n",
    "x = np.linalg.inv(A).dot(b) #Cramer's rule, slow\n",
    "print x\n",
    "print A.dot(np.linalg.inv(A).dot(b))-b #check\n",
    "x1 = np.linalg.solve(A,b) #fast; computes the \"exact\" solution\n",
    "print x1\n",
    "print A.dot(x1)-b #check"
   ]
  },
  {
   "cell_type": "code",
   "execution_count": null,
   "metadata": {
    "collapsed": false,
    "deletable": true,
    "editable": true
   },
   "outputs": [],
   "source": [
    "A = np.array([[1, 2, 3],[4, 5, 6]])\n",
    "print A\n",
    "b = np.array([[5],[6]])\n",
    "print b\n",
    "# computes the least-squares solution to a linear matrix equation\n",
    "# equation may be under-, well, or over- determined\n",
    "x, residuals, rank, s =  np.linalg.lstsq(A, b)\n",
    "print x\n",
    "print A.dot(x)"
   ]
  },
  {
   "cell_type": "markdown",
   "metadata": {
    "deletable": true,
    "editable": true
   },
   "source": [
    "## Linear regression: solving for $A$\n",
    "\n",
    "Now consider what happens if we have many vectors $\\mathbf{x}_i$ and $\\mathbf{b}_i$, all of which we want to satisfy the equation $A \\mathbf{x}_i = \\mathbf{b}_i$. If we stack the vectors $\\mathbf{x}_i$ beside each other as the columns of a large matrix $X$ and do the same for $\\mathbf{b}_i$ to form $B$, we can write the problem as a large matrix equation:\n",
    "\n",
    "$$AX = B$$\n",
    "\n",
    "There are two things we could do here. If, as before, $A$ is known, we could find $X$ given $B$. To do this, we would just need to apply the techniques described above to solve the system $A \\mathbf{x}_i = \\mathbf{b}_i$ independently for each column $i$.\n",
    "\n",
    "However, if we were given *both* $X$ and $B$ we could try to find a *single* $A$ which satisfies the equations. In essense, we are fitting a linear function given its inputs $X$ and corresponding outputs $B$. This problem is called *linear regression*. Usually we add a row of ones to $X$ to fit an affine function (i.e. one with an offset).\n",
    "\n",
    "Again, there are only very few cases in which there exists an $A$ which exactly satisfies the equations (if there is, $X$ will be square and invertible). However, we can set things up the same way as before and ask for the *least-squares* $A$ which minimizes:\n",
    "\n",
    "$$E = \\sum_i ||A \\mathbf{x}_i - \\mathbf{b}_i||^2$$\n",
    "\n",
    "Using matrix calculus, we can derive the optimal solution to this problem. The answer, one of the most famous formulas in all of mathematics, is known as the *discrete Wiener filter*:\n",
    "\n",
    "$$ A^* = BX^T\\left(XX^T\\right)^{-1}$$\n",
    "\n",
    "Once again, we might have invertibility problems in $XX^T$, this corresponds to having fewer equations than unknowns in our linear system (or duplicated equations), thus leaving some of the elements in $A$ unconstrained. We can get around this in the same way as with linear least squares by adding a small amount of penalty on the norm of the elements of $A$.\n",
    "\n",
    "$$E = \\sum_i ||A \\mathbf{x}_i - \\mathbf{b}_i||^2 + \\epsilon ||A||^2$$\n",
    "\n",
    "which means we are asking for the matrix of minimum norm which still minimizes the sum squared error on the outputs. Under this cost, the optimal solution is:\n",
    "\n",
    "$$ A^* = BX^T\\left(XX^T + \\epsilon I\\right)^{-1}$$\n",
    "\n",
    "which is known as *ridge regression*. Often it is a good idea to use a small nonzero value of $\\epsilon$ even if $XX^T$ is technically invertible, because this gives more stable solutions by penalizing large elements of $A$ that aren't doing much to reduce the error. In neural networks, this is known as *weight decay*, and in general, is known as *regularization*. You can also interpret it as having a Gaussian prior with mean zero and variance $1/2\\epsilon$ on each element of $A$.\n",
    "\n",
    "In Python, you should not actually invert the matrix, just type ``np.linalg.lstsq(X, b)``."
   ]
  },
  {
   "cell_type": "code",
   "execution_count": null,
   "metadata": {
    "collapsed": false,
    "deletable": true,
    "editable": true
   },
   "outputs": [],
   "source": [
    "N = 9  # how many data points\n",
    "x1 = np.arange(0, N)\n",
    "# note, here the data is stacked in columns\n",
    "# this is not Python convention (convention is to stack data in rows)\n",
    "# but it's the convention in this tutorial!\n",
    "X = np.array([x1, np.ones(N)])\n",
    "y = 4 * x1 + 3 + np.random.randn(N)  # note x1 is only 1-d here, but it is m-d in general\n",
    "A, residuals, rank, s = np.linalg.lstsq(X.T, y)\n",
    "line = A[0] * x1 + A[1] # regression line\n",
    "plt.plot(x1, line, 'r-', x1, y, 'bo')\n",
    "plt.xlabel('x')\n",
    "plt.ylabel('y')"
   ]
  }
 ],
 "metadata": {
  "anaconda-cloud": {},
  "kernelspec": {
   "display_name": "Python 2",
   "language": "python",
   "name": "python2"
  },
  "language_info": {
   "codemirror_mode": {
    "name": "ipython",
    "version": 2
   },
   "file_extension": ".py",
   "mimetype": "text/x-python",
   "name": "python",
   "nbconvert_exporter": "python",
   "pygments_lexer": "ipython2",
   "version": "2.7.12"
  }
 },
 "nbformat": 4,
 "nbformat_minor": 0
}
